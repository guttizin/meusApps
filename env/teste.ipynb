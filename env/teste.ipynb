{
 "cells": [
  {
   "cell_type": "code",
   "execution_count": 1,
   "metadata": {},
   "outputs": [
    {
     "data": {
      "text/html": [
       "<div>\n",
       "<style scoped>\n",
       "    .dataframe tbody tr th:only-of-type {\n",
       "        vertical-align: middle;\n",
       "    }\n",
       "\n",
       "    .dataframe tbody tr th {\n",
       "        vertical-align: top;\n",
       "    }\n",
       "\n",
       "    .dataframe thead th {\n",
       "        text-align: right;\n",
       "    }\n",
       "</style>\n",
       "<table border=\"1\" class=\"dataframe\">\n",
       "  <thead>\n",
       "    <tr style=\"text-align: right;\">\n",
       "      <th></th>\n",
       "      <th>j01_Matricula</th>\n",
       "      <th>j23_Área do Terreno</th>\n",
       "      <th>j23_Valor M² do Terreno</th>\n",
       "      <th>j23_Valor Venal Terreno</th>\n",
       "      <th>j34_Setor</th>\n",
       "      <th>Distrito</th>\n",
       "      <th>Valor m² (ITBI)</th>\n",
       "      <th>Valor Venal (ITBI)</th>\n",
       "    </tr>\n",
       "  </thead>\n",
       "  <tbody>\n",
       "    <tr>\n",
       "      <th>0</th>\n",
       "      <td>106995</td>\n",
       "      <td>300.0</td>\n",
       "      <td>56.63</td>\n",
       "      <td>16989.00</td>\n",
       "      <td>999</td>\n",
       "      <td>1</td>\n",
       "      <td>867.0</td>\n",
       "      <td>260.000,00</td>\n",
       "    </tr>\n",
       "    <tr>\n",
       "      <th>1</th>\n",
       "      <td>106996</td>\n",
       "      <td>360.0</td>\n",
       "      <td>56.63</td>\n",
       "      <td>20386.80</td>\n",
       "      <td>999</td>\n",
       "      <td>1</td>\n",
       "      <td>NaN</td>\n",
       "      <td>NaN</td>\n",
       "    </tr>\n",
       "    <tr>\n",
       "      <th>2</th>\n",
       "      <td>106997</td>\n",
       "      <td>285.0</td>\n",
       "      <td>56.63</td>\n",
       "      <td>16139.55</td>\n",
       "      <td>999</td>\n",
       "      <td>1</td>\n",
       "      <td>NaN</td>\n",
       "      <td>NaN</td>\n",
       "    </tr>\n",
       "    <tr>\n",
       "      <th>3</th>\n",
       "      <td>107005</td>\n",
       "      <td>2457.0</td>\n",
       "      <td>56.63</td>\n",
       "      <td>139139.91</td>\n",
       "      <td>999</td>\n",
       "      <td>1</td>\n",
       "      <td>NaN</td>\n",
       "      <td>NaN</td>\n",
       "    </tr>\n",
       "    <tr>\n",
       "      <th>4</th>\n",
       "      <td>107006</td>\n",
       "      <td>300.0</td>\n",
       "      <td>56.63</td>\n",
       "      <td>16989.00</td>\n",
       "      <td>999</td>\n",
       "      <td>1</td>\n",
       "      <td>NaN</td>\n",
       "      <td>NaN</td>\n",
       "    </tr>\n",
       "  </tbody>\n",
       "</table>\n",
       "</div>"
      ],
      "text/plain": [
       "   j01_Matricula  j23_Área do Terreno  j23_Valor M² do Terreno  \\\n",
       "0         106995                300.0                    56.63   \n",
       "1         106996                360.0                    56.63   \n",
       "2         106997                285.0                    56.63   \n",
       "3         107005               2457.0                    56.63   \n",
       "4         107006                300.0                    56.63   \n",
       "\n",
       "   j23_Valor Venal Terreno  j34_Setor Distrito  Valor m² (ITBI)  \\\n",
       "0                 16989.00        999        1            867.0   \n",
       "1                 20386.80        999        1              NaN   \n",
       "2                 16139.55        999        1              NaN   \n",
       "3                139139.91        999        1              NaN   \n",
       "4                 16989.00        999        1              NaN   \n",
       "\n",
       "  Valor Venal (ITBI)  \n",
       "0         260.000,00  \n",
       "1                NaN  \n",
       "2                NaN  \n",
       "3                NaN  \n",
       "4                NaN  "
      ]
     },
     "execution_count": 1,
     "metadata": {},
     "output_type": "execute_result"
    }
   ],
   "source": [
    "import pandas as pd\n",
    "\n",
    "tabela = pd.read_excel('marica.xlsx', sheet_name='BDI_20211207', dtype={'Distrito': str,}, usecols='B:E,G,N,AP,AS')\n",
    "tabela.head()"
   ]
  },
  {
   "cell_type": "code",
   "execution_count": 2,
   "metadata": {},
   "outputs": [
    {
     "name": "stdout",
     "output_type": "stream",
     "text": [
      "<class 'pandas.core.frame.DataFrame'>\n",
      "RangeIndex: 142505 entries, 0 to 142504\n",
      "Data columns (total 8 columns):\n",
      " #   Column                   Non-Null Count   Dtype  \n",
      "---  ------                   --------------   -----  \n",
      " 0   j01_Matricula            142505 non-null  int64  \n",
      " 1   j23_Área do Terreno      141638 non-null  float64\n",
      " 2   j23_Valor M² do Terreno  141638 non-null  float64\n",
      " 3   j23_Valor Venal Terreno  141638 non-null  float64\n",
      " 4   j34_Setor                142505 non-null  int64  \n",
      " 5   Distrito                 142505 non-null  object \n",
      " 6   Valor m² (ITBI)          15717 non-null   float64\n",
      " 7   Valor Venal (ITBI)       15744 non-null   object \n",
      "dtypes: float64(4), int64(2), object(2)\n",
      "memory usage: 8.7+ MB\n"
     ]
    }
   ],
   "source": [
    "tabela.info()"
   ]
  },
  {
   "cell_type": "code",
   "execution_count": 3,
   "metadata": {},
   "outputs": [
    {
     "name": "stdout",
     "output_type": "stream",
     "text": [
      "<class 'pandas.core.frame.DataFrame'>\n",
      "Int64Index: 141638 entries, 0 to 142504\n",
      "Data columns (total 8 columns):\n",
      " #   Column                   Non-Null Count   Dtype  \n",
      "---  ------                   --------------   -----  \n",
      " 0   j01_Matricula            141638 non-null  int64  \n",
      " 1   j23_Área do Terreno      141638 non-null  float64\n",
      " 2   j23_Valor M² do Terreno  141638 non-null  float64\n",
      " 3   j23_Valor Venal Terreno  141638 non-null  float64\n",
      " 4   j34_Setor                141638 non-null  int64  \n",
      " 5   Distrito                 141638 non-null  object \n",
      " 6   Valor m² (ITBI)          15717 non-null   float64\n",
      " 7   Valor Venal (ITBI)       15718 non-null   object \n",
      "dtypes: float64(4), int64(2), object(2)\n",
      "memory usage: 9.7+ MB\n"
     ]
    }
   ],
   "source": [
    "tabela = tabela.dropna(how=\"any\", subset=['j23_Valor M² do Terreno', 'j34_Setor'])\n",
    "tabela.info()"
   ]
  },
  {
   "cell_type": "code",
   "execution_count": 4,
   "metadata": {},
   "outputs": [
    {
     "data": {
      "text/html": [
       "<div>\n",
       "<style scoped>\n",
       "    .dataframe tbody tr th:only-of-type {\n",
       "        vertical-align: middle;\n",
       "    }\n",
       "\n",
       "    .dataframe tbody tr th {\n",
       "        vertical-align: top;\n",
       "    }\n",
       "\n",
       "    .dataframe thead th {\n",
       "        text-align: right;\n",
       "    }\n",
       "</style>\n",
       "<table border=\"1\" class=\"dataframe\">\n",
       "  <thead>\n",
       "    <tr style=\"text-align: right;\">\n",
       "      <th></th>\n",
       "      <th>j01_Matricula</th>\n",
       "      <th>j23_Área do Terreno</th>\n",
       "      <th>j23_Valor M² do Terreno</th>\n",
       "      <th>j23_Valor Venal Terreno</th>\n",
       "      <th>j34_Setor</th>\n",
       "      <th>Valor m² (ITBI)</th>\n",
       "    </tr>\n",
       "    <tr>\n",
       "      <th>Distrito</th>\n",
       "      <th></th>\n",
       "      <th></th>\n",
       "      <th></th>\n",
       "      <th></th>\n",
       "      <th></th>\n",
       "      <th></th>\n",
       "    </tr>\n",
       "  </thead>\n",
       "  <tbody>\n",
       "    <tr>\n",
       "      <th>1</th>\n",
       "      <td>66475.986724</td>\n",
       "      <td>1039.169976</td>\n",
       "      <td>67.848765</td>\n",
       "      <td>33557.294474</td>\n",
       "      <td>8828.004828</td>\n",
       "      <td>619.573948</td>\n",
       "    </tr>\n",
       "    <tr>\n",
       "      <th>2</th>\n",
       "      <td>58593.930590</td>\n",
       "      <td>1068.059596</td>\n",
       "      <td>38.663163</td>\n",
       "      <td>22102.876963</td>\n",
       "      <td>9037.211509</td>\n",
       "      <td>653.333513</td>\n",
       "    </tr>\n",
       "    <tr>\n",
       "      <th>3</th>\n",
       "      <td>96644.504308</td>\n",
       "      <td>880.479105</td>\n",
       "      <td>37.292970</td>\n",
       "      <td>24856.935904</td>\n",
       "      <td>8877.884827</td>\n",
       "      <td>403.898833</td>\n",
       "    </tr>\n",
       "    <tr>\n",
       "      <th>4</th>\n",
       "      <td>97119.384309</td>\n",
       "      <td>708.419792</td>\n",
       "      <td>62.336560</td>\n",
       "      <td>29990.530795</td>\n",
       "      <td>8930.555106</td>\n",
       "      <td>912.139749</td>\n",
       "    </tr>\n",
       "  </tbody>\n",
       "</table>\n",
       "</div>"
      ],
      "text/plain": [
       "          j01_Matricula  j23_Área do Terreno  j23_Valor M² do Terreno  \\\n",
       "Distrito                                                                \n",
       "1          66475.986724          1039.169976                67.848765   \n",
       "2          58593.930590          1068.059596                38.663163   \n",
       "3          96644.504308           880.479105                37.292970   \n",
       "4          97119.384309           708.419792                62.336560   \n",
       "\n",
       "          j23_Valor Venal Terreno    j34_Setor  Valor m² (ITBI)  \n",
       "Distrito                                                         \n",
       "1                    33557.294474  8828.004828       619.573948  \n",
       "2                    22102.876963  9037.211509       653.333513  \n",
       "3                    24856.935904  8877.884827       403.898833  \n",
       "4                    29990.530795  8930.555106       912.139749  "
      ]
     },
     "execution_count": 4,
     "metadata": {},
     "output_type": "execute_result"
    }
   ],
   "source": [
    "media_distritos = tabela.groupby('Distrito').mean()\n",
    "media_distritos"
   ]
  },
  {
   "cell_type": "code",
   "execution_count": 18,
   "metadata": {},
   "outputs": [
    {
     "name": "stderr",
     "output_type": "stream",
     "text": [
      "C:\\Users\\carlos.dias\\AppData\\Local\\Temp\\ipykernel_496\\1895904173.py:1: FutureWarning: Dropping of nuisance columns in DataFrame reductions (with 'numeric_only=None') is deprecated; in a future version this will raise TypeError.  Select only valid columns before calling the reduction.\n",
      "  tabela.max()\n"
     ]
    },
    {
     "data": {
      "text/plain": [
       "j01_Matricula                   157137\n",
       "j23_Área do Terreno          7958388.0\n",
       "j23_Valor M² do Terreno         329.17\n",
       "j23_Valor Venal Terreno    12645339.98\n",
       "j34_Setor                         9235\n",
       "Distrito                             4\n",
       "Valor m² (ITBI)               382979.0\n",
       "dtype: object"
      ]
     },
     "execution_count": 18,
     "metadata": {},
     "output_type": "execute_result"
    }
   ],
   "source": [
    "tabela.max()"
   ]
  },
  {
   "cell_type": "code",
   "execution_count": 22,
   "metadata": {},
   "outputs": [
    {
     "name": "stdout",
     "output_type": "stream",
     "text": [
      "<class 'pandas.core.frame.DataFrame'>\n",
      "Int64Index: 141638 entries, 0 to 142504\n",
      "Data columns (total 8 columns):\n",
      " #   Column                   Non-Null Count   Dtype  \n",
      "---  ------                   --------------   -----  \n",
      " 0   j01_Matricula            141638 non-null  int64  \n",
      " 1   j23_Área do Terreno      141638 non-null  float64\n",
      " 2   j23_Valor M² do Terreno  141638 non-null  float64\n",
      " 3   j23_Valor Venal Terreno  141638 non-null  float64\n",
      " 4   j34_Setor                141638 non-null  int64  \n",
      " 5   Distrito                 141638 non-null  object \n",
      " 6   Valor m² (ITBI)          15717 non-null   float64\n",
      " 7   Valor Venal (ITBI)       15718 non-null   object \n",
      "dtypes: float64(4), int64(2), object(2)\n",
      "memory usage: 9.7+ MB\n"
     ]
    }
   ],
   "source": [
    "tabela.info()"
   ]
  }
 ],
 "metadata": {
  "interpreter": {
   "hash": "e2d1b29c09a66eed058bdd1d8696795a07c03999ac74214f8cb71335d67fdf52"
  },
  "kernelspec": {
   "display_name": "Python 3.10.1 64-bit",
   "language": "python",
   "name": "python3"
  },
  "language_info": {
   "codemirror_mode": {
    "name": "ipython",
    "version": 3
   },
   "file_extension": ".py",
   "mimetype": "text/x-python",
   "name": "python",
   "nbconvert_exporter": "python",
   "pygments_lexer": "ipython3",
   "version": "3.10.1"
  },
  "orig_nbformat": 4
 },
 "nbformat": 4,
 "nbformat_minor": 2
}
